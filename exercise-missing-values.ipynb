{
 "cells": [
  {
   "cell_type": "markdown",
   "id": "05b2055b",
   "metadata": {
    "papermill": {
     "duration": 0.012436,
     "end_time": "2023-12-02T19:29:55.919665",
     "exception": false,
     "start_time": "2023-12-02T19:29:55.907229",
     "status": "completed"
    },
    "tags": []
   },
   "source": [
    "**This notebook is an exercise in the [Intermediate Machine Learning](https://www.kaggle.com/learn/intermediate-machine-learning) course.  You can reference the tutorial at [this link](https://www.kaggle.com/alexisbcook/missing-values).**\n",
    "\n",
    "---\n"
   ]
  },
  {
   "cell_type": "markdown",
   "id": "afee6428",
   "metadata": {
    "papermill": {
     "duration": 0.011365,
     "end_time": "2023-12-02T19:29:55.943851",
     "exception": false,
     "start_time": "2023-12-02T19:29:55.932486",
     "status": "completed"
    },
    "tags": []
   },
   "source": [
    "Now it's your turn to test your new knowledge of **missing values** handling. You'll probably find it makes a big difference.\n",
    "\n",
    "# Setup\n",
    "\n",
    "The questions will give you feedback on your work. Run the following cell to set up the feedback system."
   ]
  },
  {
   "cell_type": "code",
   "execution_count": 1,
   "id": "5cc78e2f",
   "metadata": {
    "execution": {
     "iopub.execute_input": "2023-12-02T19:29:55.969832Z",
     "iopub.status.busy": "2023-12-02T19:29:55.969345Z",
     "iopub.status.idle": "2023-12-02T19:29:56.453289Z",
     "shell.execute_reply": "2023-12-02T19:29:56.451992Z"
    },
    "papermill": {
     "duration": 0.500468,
     "end_time": "2023-12-02T19:29:56.456126",
     "exception": false,
     "start_time": "2023-12-02T19:29:55.955658",
     "status": "completed"
    },
    "tags": []
   },
   "outputs": [
    {
     "name": "stdout",
     "output_type": "stream",
     "text": [
      "Setup Complete\n"
     ]
    }
   ],
   "source": [
    "# Set up code checking\n",
    "import os\n",
    "if not os.path.exists(\"../input/train.csv\"):\n",
    "    os.symlink(\"../input/home-data-for-ml-course/train.csv\", \"../input/train.csv\")  \n",
    "    os.symlink(\"../input/home-data-for-ml-course/test.csv\", \"../input/test.csv\") \n",
    "from learntools.core import binder\n",
    "binder.bind(globals())\n",
    "from learntools.ml_intermediate.ex2 import *\n",
    "print(\"Setup Complete\")"
   ]
  },
  {
   "cell_type": "markdown",
   "id": "b7ce8cfe",
   "metadata": {
    "papermill": {
     "duration": 0.011527,
     "end_time": "2023-12-02T19:29:56.480154",
     "exception": false,
     "start_time": "2023-12-02T19:29:56.468627",
     "status": "completed"
    },
    "tags": []
   },
   "source": [
    "In this exercise, you will work with data from the [Housing Prices Competition for Kaggle Learn Users](https://www.kaggle.com/c/home-data-for-ml-course). \n",
    "\n",
    "![Ames Housing dataset image](https://storage.googleapis.com/kaggle-media/learn/images/lTJVG4e.png)\n",
    "\n",
    "Run the next code cell without changes to load the training and validation sets in `X_train`, `X_valid`, `y_train`, and `y_valid`.  The test set is loaded in `X_test`."
   ]
  },
  {
   "cell_type": "code",
   "execution_count": 2,
   "id": "42a8ed60",
   "metadata": {
    "execution": {
     "iopub.execute_input": "2023-12-02T19:29:56.505488Z",
     "iopub.status.busy": "2023-12-02T19:29:56.504956Z",
     "iopub.status.idle": "2023-12-02T19:29:58.121025Z",
     "shell.execute_reply": "2023-12-02T19:29:58.120035Z"
    },
    "papermill": {
     "duration": 1.631816,
     "end_time": "2023-12-02T19:29:58.123712",
     "exception": false,
     "start_time": "2023-12-02T19:29:56.491896",
     "status": "completed"
    },
    "tags": []
   },
   "outputs": [],
   "source": [
    "import pandas as pd\n",
    "from sklearn.model_selection import train_test_split\n",
    "\n",
    "# Read the data\n",
    "X_full = pd.read_csv('../input/train.csv', index_col='Id')\n",
    "X_test_full = pd.read_csv('../input/test.csv', index_col='Id')\n",
    "\n",
    "# Remove rows with missing target, separate target from predictors\n",
    "X_full.dropna(axis=0, subset=['SalePrice'], inplace=True)\n",
    "y = X_full.SalePrice\n",
    "X_full.drop(['SalePrice'], axis=1, inplace=True)\n",
    "\n",
    "# To keep things simple, we'll use only numerical predictors\n",
    "X = X_full.select_dtypes(exclude=['object'])\n",
    "X_test = X_test_full.select_dtypes(exclude=['object'])\n",
    "\n",
    "# Break off validation set from training data\n",
    "X_train, X_valid, y_train, y_valid = train_test_split(X, y, train_size=0.8, test_size=0.2,\n",
    "                                                      random_state=0)"
   ]
  },
  {
   "cell_type": "markdown",
   "id": "df44c9b1",
   "metadata": {
    "papermill": {
     "duration": 0.012846,
     "end_time": "2023-12-02T19:29:58.148621",
     "exception": false,
     "start_time": "2023-12-02T19:29:58.135775",
     "status": "completed"
    },
    "tags": []
   },
   "source": [
    "Use the next code cell to print the first five rows of the data."
   ]
  },
  {
   "cell_type": "code",
   "execution_count": 3,
   "id": "e7796c49",
   "metadata": {
    "execution": {
     "iopub.execute_input": "2023-12-02T19:29:58.176051Z",
     "iopub.status.busy": "2023-12-02T19:29:58.174875Z",
     "iopub.status.idle": "2023-12-02T19:29:58.204047Z",
     "shell.execute_reply": "2023-12-02T19:29:58.202897Z"
    },
    "papermill": {
     "duration": 0.045548,
     "end_time": "2023-12-02T19:29:58.206904",
     "exception": false,
     "start_time": "2023-12-02T19:29:58.161356",
     "status": "completed"
    },
    "tags": []
   },
   "outputs": [
    {
     "data": {
      "text/html": [
       "<div>\n",
       "<style scoped>\n",
       "    .dataframe tbody tr th:only-of-type {\n",
       "        vertical-align: middle;\n",
       "    }\n",
       "\n",
       "    .dataframe tbody tr th {\n",
       "        vertical-align: top;\n",
       "    }\n",
       "\n",
       "    .dataframe thead th {\n",
       "        text-align: right;\n",
       "    }\n",
       "</style>\n",
       "<table border=\"1\" class=\"dataframe\">\n",
       "  <thead>\n",
       "    <tr style=\"text-align: right;\">\n",
       "      <th></th>\n",
       "      <th>MSSubClass</th>\n",
       "      <th>LotFrontage</th>\n",
       "      <th>LotArea</th>\n",
       "      <th>OverallQual</th>\n",
       "      <th>OverallCond</th>\n",
       "      <th>YearBuilt</th>\n",
       "      <th>YearRemodAdd</th>\n",
       "      <th>MasVnrArea</th>\n",
       "      <th>BsmtFinSF1</th>\n",
       "      <th>BsmtFinSF2</th>\n",
       "      <th>...</th>\n",
       "      <th>GarageArea</th>\n",
       "      <th>WoodDeckSF</th>\n",
       "      <th>OpenPorchSF</th>\n",
       "      <th>EnclosedPorch</th>\n",
       "      <th>3SsnPorch</th>\n",
       "      <th>ScreenPorch</th>\n",
       "      <th>PoolArea</th>\n",
       "      <th>MiscVal</th>\n",
       "      <th>MoSold</th>\n",
       "      <th>YrSold</th>\n",
       "    </tr>\n",
       "    <tr>\n",
       "      <th>Id</th>\n",
       "      <th></th>\n",
       "      <th></th>\n",
       "      <th></th>\n",
       "      <th></th>\n",
       "      <th></th>\n",
       "      <th></th>\n",
       "      <th></th>\n",
       "      <th></th>\n",
       "      <th></th>\n",
       "      <th></th>\n",
       "      <th></th>\n",
       "      <th></th>\n",
       "      <th></th>\n",
       "      <th></th>\n",
       "      <th></th>\n",
       "      <th></th>\n",
       "      <th></th>\n",
       "      <th></th>\n",
       "      <th></th>\n",
       "      <th></th>\n",
       "      <th></th>\n",
       "    </tr>\n",
       "  </thead>\n",
       "  <tbody>\n",
       "    <tr>\n",
       "      <th>619</th>\n",
       "      <td>20</td>\n",
       "      <td>90.0</td>\n",
       "      <td>11694</td>\n",
       "      <td>9</td>\n",
       "      <td>5</td>\n",
       "      <td>2007</td>\n",
       "      <td>2007</td>\n",
       "      <td>452.0</td>\n",
       "      <td>48</td>\n",
       "      <td>0</td>\n",
       "      <td>...</td>\n",
       "      <td>774</td>\n",
       "      <td>0</td>\n",
       "      <td>108</td>\n",
       "      <td>0</td>\n",
       "      <td>0</td>\n",
       "      <td>260</td>\n",
       "      <td>0</td>\n",
       "      <td>0</td>\n",
       "      <td>7</td>\n",
       "      <td>2007</td>\n",
       "    </tr>\n",
       "    <tr>\n",
       "      <th>871</th>\n",
       "      <td>20</td>\n",
       "      <td>60.0</td>\n",
       "      <td>6600</td>\n",
       "      <td>5</td>\n",
       "      <td>5</td>\n",
       "      <td>1962</td>\n",
       "      <td>1962</td>\n",
       "      <td>0.0</td>\n",
       "      <td>0</td>\n",
       "      <td>0</td>\n",
       "      <td>...</td>\n",
       "      <td>308</td>\n",
       "      <td>0</td>\n",
       "      <td>0</td>\n",
       "      <td>0</td>\n",
       "      <td>0</td>\n",
       "      <td>0</td>\n",
       "      <td>0</td>\n",
       "      <td>0</td>\n",
       "      <td>8</td>\n",
       "      <td>2009</td>\n",
       "    </tr>\n",
       "    <tr>\n",
       "      <th>93</th>\n",
       "      <td>30</td>\n",
       "      <td>80.0</td>\n",
       "      <td>13360</td>\n",
       "      <td>5</td>\n",
       "      <td>7</td>\n",
       "      <td>1921</td>\n",
       "      <td>2006</td>\n",
       "      <td>0.0</td>\n",
       "      <td>713</td>\n",
       "      <td>0</td>\n",
       "      <td>...</td>\n",
       "      <td>432</td>\n",
       "      <td>0</td>\n",
       "      <td>0</td>\n",
       "      <td>44</td>\n",
       "      <td>0</td>\n",
       "      <td>0</td>\n",
       "      <td>0</td>\n",
       "      <td>0</td>\n",
       "      <td>8</td>\n",
       "      <td>2009</td>\n",
       "    </tr>\n",
       "    <tr>\n",
       "      <th>818</th>\n",
       "      <td>20</td>\n",
       "      <td>NaN</td>\n",
       "      <td>13265</td>\n",
       "      <td>8</td>\n",
       "      <td>5</td>\n",
       "      <td>2002</td>\n",
       "      <td>2002</td>\n",
       "      <td>148.0</td>\n",
       "      <td>1218</td>\n",
       "      <td>0</td>\n",
       "      <td>...</td>\n",
       "      <td>857</td>\n",
       "      <td>150</td>\n",
       "      <td>59</td>\n",
       "      <td>0</td>\n",
       "      <td>0</td>\n",
       "      <td>0</td>\n",
       "      <td>0</td>\n",
       "      <td>0</td>\n",
       "      <td>7</td>\n",
       "      <td>2008</td>\n",
       "    </tr>\n",
       "    <tr>\n",
       "      <th>303</th>\n",
       "      <td>20</td>\n",
       "      <td>118.0</td>\n",
       "      <td>13704</td>\n",
       "      <td>7</td>\n",
       "      <td>5</td>\n",
       "      <td>2001</td>\n",
       "      <td>2002</td>\n",
       "      <td>150.0</td>\n",
       "      <td>0</td>\n",
       "      <td>0</td>\n",
       "      <td>...</td>\n",
       "      <td>843</td>\n",
       "      <td>468</td>\n",
       "      <td>81</td>\n",
       "      <td>0</td>\n",
       "      <td>0</td>\n",
       "      <td>0</td>\n",
       "      <td>0</td>\n",
       "      <td>0</td>\n",
       "      <td>1</td>\n",
       "      <td>2006</td>\n",
       "    </tr>\n",
       "  </tbody>\n",
       "</table>\n",
       "<p>5 rows × 36 columns</p>\n",
       "</div>"
      ],
      "text/plain": [
       "     MSSubClass  LotFrontage  LotArea  OverallQual  OverallCond  YearBuilt  \\\n",
       "Id                                                                           \n",
       "619          20         90.0    11694            9            5       2007   \n",
       "871          20         60.0     6600            5            5       1962   \n",
       "93           30         80.0    13360            5            7       1921   \n",
       "818          20          NaN    13265            8            5       2002   \n",
       "303          20        118.0    13704            7            5       2001   \n",
       "\n",
       "     YearRemodAdd  MasVnrArea  BsmtFinSF1  BsmtFinSF2  ...  GarageArea  \\\n",
       "Id                                                     ...               \n",
       "619          2007       452.0          48           0  ...         774   \n",
       "871          1962         0.0           0           0  ...         308   \n",
       "93           2006         0.0         713           0  ...         432   \n",
       "818          2002       148.0        1218           0  ...         857   \n",
       "303          2002       150.0           0           0  ...         843   \n",
       "\n",
       "     WoodDeckSF  OpenPorchSF  EnclosedPorch  3SsnPorch  ScreenPorch  PoolArea  \\\n",
       "Id                                                                              \n",
       "619           0          108              0          0          260         0   \n",
       "871           0            0              0          0            0         0   \n",
       "93            0            0             44          0            0         0   \n",
       "818         150           59              0          0            0         0   \n",
       "303         468           81              0          0            0         0   \n",
       "\n",
       "     MiscVal  MoSold  YrSold  \n",
       "Id                            \n",
       "619        0       7    2007  \n",
       "871        0       8    2009  \n",
       "93         0       8    2009  \n",
       "818        0       7    2008  \n",
       "303        0       1    2006  \n",
       "\n",
       "[5 rows x 36 columns]"
      ]
     },
     "execution_count": 3,
     "metadata": {},
     "output_type": "execute_result"
    }
   ],
   "source": [
    "X_train.head()"
   ]
  },
  {
   "cell_type": "markdown",
   "id": "68b3dfe9",
   "metadata": {
    "papermill": {
     "duration": 0.012684,
     "end_time": "2023-12-02T19:29:58.232539",
     "exception": false,
     "start_time": "2023-12-02T19:29:58.219855",
     "status": "completed"
    },
    "tags": []
   },
   "source": [
    "You can already see a few missing values in the first several rows.  In the next step, you'll obtain a more comprehensive understanding of the missing values in the dataset.\n",
    "\n",
    "# Step 1: Preliminary investigation\n",
    "\n",
    "Run the code cell below without changes."
   ]
  },
  {
   "cell_type": "code",
   "execution_count": 4,
   "id": "20361ee8",
   "metadata": {
    "execution": {
     "iopub.execute_input": "2023-12-02T19:29:58.260272Z",
     "iopub.status.busy": "2023-12-02T19:29:58.259177Z",
     "iopub.status.idle": "2023-12-02T19:29:58.269278Z",
     "shell.execute_reply": "2023-12-02T19:29:58.268057Z"
    },
    "papermill": {
     "duration": 0.026521,
     "end_time": "2023-12-02T19:29:58.271812",
     "exception": false,
     "start_time": "2023-12-02T19:29:58.245291",
     "status": "completed"
    },
    "tags": []
   },
   "outputs": [
    {
     "name": "stdout",
     "output_type": "stream",
     "text": [
      "(1168, 36)\n",
      "LotFrontage    212\n",
      "MasVnrArea       6\n",
      "GarageYrBlt     58\n",
      "dtype: int64\n"
     ]
    }
   ],
   "source": [
    "# Shape of training data (num_rows, num_columns)\n",
    "print(X_train.shape)\n",
    "\n",
    "# Number of missing values in each column of training data\n",
    "missing_val_count_by_column = (X_train.isnull().sum())\n",
    "print(missing_val_count_by_column[missing_val_count_by_column > 0])"
   ]
  },
  {
   "cell_type": "markdown",
   "id": "99fd9d51",
   "metadata": {
    "papermill": {
     "duration": 0.01206,
     "end_time": "2023-12-02T19:29:58.296529",
     "exception": false,
     "start_time": "2023-12-02T19:29:58.284469",
     "status": "completed"
    },
    "tags": []
   },
   "source": [
    "### Part A\n",
    "\n",
    "Use the above output to answer the questions below."
   ]
  },
  {
   "cell_type": "code",
   "execution_count": 5,
   "id": "3a8bb436",
   "metadata": {
    "execution": {
     "iopub.execute_input": "2023-12-02T19:29:58.323247Z",
     "iopub.status.busy": "2023-12-02T19:29:58.322778Z",
     "iopub.status.idle": "2023-12-02T19:29:58.332517Z",
     "shell.execute_reply": "2023-12-02T19:29:58.331428Z"
    },
    "papermill": {
     "duration": 0.026097,
     "end_time": "2023-12-02T19:29:58.335049",
     "exception": false,
     "start_time": "2023-12-02T19:29:58.308952",
     "status": "completed"
    },
    "tags": []
   },
   "outputs": [
    {
     "data": {
      "application/javascript": [
       "parent.postMessage({\"jupyterEvent\": \"custom.exercise_interaction\", \"data\": {\"outcomeType\": 1, \"valueTowardsCompletion\": 1.0, \"interactionType\": 1, \"questionType\": 1, \"questionId\": \"1.1_InvestigateEquality\", \"learnToolsVersion\": \"0.3.4\", \"failureMessage\": \"\", \"exceptionClass\": \"\", \"trace\": \"\"}}, \"*\")"
      ],
      "text/plain": [
       "<IPython.core.display.Javascript object>"
      ]
     },
     "metadata": {},
     "output_type": "display_data"
    },
    {
     "data": {
      "text/markdown": [
       "<span style=\"color:#33cc33\">Correct</span>"
      ],
      "text/plain": [
       "Correct"
      ]
     },
     "metadata": {},
     "output_type": "display_data"
    }
   ],
   "source": [
    "# Fill in the line below: How many rows are in the training data?\n",
    "num_rows = 1168\n",
    "\n",
    "# Fill in the line below: How many columns in the training data\n",
    "# have missing values?\n",
    "num_cols_with_missing = 3\n",
    "\n",
    "# Fill in the line below: How many missing entries are contained in \n",
    "# all of the training data?\n",
    "tot_missing = 212+6+58\n",
    "\n",
    "# Check your answers\n",
    "step_1.a.check()"
   ]
  },
  {
   "cell_type": "code",
   "execution_count": 6,
   "id": "aadefb80",
   "metadata": {
    "execution": {
     "iopub.execute_input": "2023-12-02T19:29:58.363854Z",
     "iopub.status.busy": "2023-12-02T19:29:58.363337Z",
     "iopub.status.idle": "2023-12-02T19:29:58.368210Z",
     "shell.execute_reply": "2023-12-02T19:29:58.367029Z"
    },
    "papermill": {
     "duration": 0.022052,
     "end_time": "2023-12-02T19:29:58.370551",
     "exception": false,
     "start_time": "2023-12-02T19:29:58.348499",
     "status": "completed"
    },
    "tags": []
   },
   "outputs": [],
   "source": [
    "# Lines below will give you a hint or solution code\n",
    "#step_1.a.hint()\n",
    "#step_1.a.solution()"
   ]
  },
  {
   "cell_type": "markdown",
   "id": "9ea89acd",
   "metadata": {
    "papermill": {
     "duration": 0.012312,
     "end_time": "2023-12-02T19:29:58.395700",
     "exception": false,
     "start_time": "2023-12-02T19:29:58.383388",
     "status": "completed"
    },
    "tags": []
   },
   "source": [
    "### Part B\n",
    "Considering your answers above, what do you think is likely the best approach to dealing with the missing values?"
   ]
  },
  {
   "cell_type": "code",
   "execution_count": 7,
   "id": "16a56be1",
   "metadata": {
    "execution": {
     "iopub.execute_input": "2023-12-02T19:29:58.423716Z",
     "iopub.status.busy": "2023-12-02T19:29:58.422759Z",
     "iopub.status.idle": "2023-12-02T19:29:58.432844Z",
     "shell.execute_reply": "2023-12-02T19:29:58.431481Z"
    },
    "papermill": {
     "duration": 0.027125,
     "end_time": "2023-12-02T19:29:58.435625",
     "exception": false,
     "start_time": "2023-12-02T19:29:58.408500",
     "status": "completed"
    },
    "tags": []
   },
   "outputs": [
    {
     "data": {
      "application/javascript": [
       "parent.postMessage({\"jupyterEvent\": \"custom.exercise_interaction\", \"data\": {\"outcomeType\": 1, \"valueTowardsCompletion\": 1.0, \"interactionType\": 1, \"questionType\": 4, \"questionId\": \"1.2_InvestigateThought\", \"learnToolsVersion\": \"0.3.4\", \"failureMessage\": \"\", \"exceptionClass\": \"\", \"trace\": \"\"}}, \"*\")"
      ],
      "text/plain": [
       "<IPython.core.display.Javascript object>"
      ]
     },
     "metadata": {},
     "output_type": "display_data"
    },
    {
     "data": {
      "text/markdown": [
       "<span style=\"color:#33cc33\">Correct:</span> \n",
       "\n",
       "Since there are relatively few missing entries in the data (the column with the greatest percentage of missing values is missing less than 20% of its entries), we can expect that dropping columns is unlikely to yield good results.  This is because we'd be throwing away a lot of valuable data, and so imputation will likely perform better."
      ],
      "text/plain": [
       "Correct: \n",
       "\n",
       "Since there are relatively few missing entries in the data (the column with the greatest percentage of missing values is missing less than 20% of its entries), we can expect that dropping columns is unlikely to yield good results.  This is because we'd be throwing away a lot of valuable data, and so imputation will likely perform better."
      ]
     },
     "metadata": {},
     "output_type": "display_data"
    }
   ],
   "source": [
    "# Check your answer (Run this code cell to receive credit!)\n",
    "step_1.b.check()"
   ]
  },
  {
   "cell_type": "code",
   "execution_count": 8,
   "id": "87c5d3b7",
   "metadata": {
    "execution": {
     "iopub.execute_input": "2023-12-02T19:29:58.463915Z",
     "iopub.status.busy": "2023-12-02T19:29:58.463350Z",
     "iopub.status.idle": "2023-12-02T19:29:58.468761Z",
     "shell.execute_reply": "2023-12-02T19:29:58.467563Z"
    },
    "papermill": {
     "duration": 0.022407,
     "end_time": "2023-12-02T19:29:58.471225",
     "exception": false,
     "start_time": "2023-12-02T19:29:58.448818",
     "status": "completed"
    },
    "tags": []
   },
   "outputs": [],
   "source": [
    "#step_1.b.hint()"
   ]
  },
  {
   "cell_type": "markdown",
   "id": "8d23674b",
   "metadata": {
    "papermill": {
     "duration": 0.012865,
     "end_time": "2023-12-02T19:29:58.497355",
     "exception": false,
     "start_time": "2023-12-02T19:29:58.484490",
     "status": "completed"
    },
    "tags": []
   },
   "source": [
    "To compare different approaches to dealing with missing values, you'll use the same `score_dataset()` function from the tutorial.  This function reports the [mean absolute error](https://en.wikipedia.org/wiki/Mean_absolute_error) (MAE) from a random forest model."
   ]
  },
  {
   "cell_type": "code",
   "execution_count": 9,
   "id": "f8f7dc39",
   "metadata": {
    "execution": {
     "iopub.execute_input": "2023-12-02T19:29:58.525711Z",
     "iopub.status.busy": "2023-12-02T19:29:58.525262Z",
     "iopub.status.idle": "2023-12-02T19:29:58.909701Z",
     "shell.execute_reply": "2023-12-02T19:29:58.908404Z"
    },
    "papermill": {
     "duration": 0.401941,
     "end_time": "2023-12-02T19:29:58.912388",
     "exception": false,
     "start_time": "2023-12-02T19:29:58.510447",
     "status": "completed"
    },
    "tags": []
   },
   "outputs": [],
   "source": [
    "from sklearn.ensemble import RandomForestRegressor\n",
    "from sklearn.metrics import mean_absolute_error\n",
    "\n",
    "# Function for comparing different approaches\n",
    "def score_dataset(X_train, X_valid, y_train, y_valid):\n",
    "    model = RandomForestRegressor(n_estimators=100, random_state=0)\n",
    "    model.fit(X_train, y_train)\n",
    "    preds = model.predict(X_valid)\n",
    "    return mean_absolute_error(y_valid, preds)"
   ]
  },
  {
   "cell_type": "markdown",
   "id": "fd64a772",
   "metadata": {
    "papermill": {
     "duration": 0.012779,
     "end_time": "2023-12-02T19:29:58.938698",
     "exception": false,
     "start_time": "2023-12-02T19:29:58.925919",
     "status": "completed"
    },
    "tags": []
   },
   "source": [
    "# Step 2: Drop columns with missing values\n",
    "\n",
    "In this step, you'll preprocess the data in `X_train` and `X_valid` to remove columns with missing values.  Set the preprocessed DataFrames to `reduced_X_train` and `reduced_X_valid`, respectively.  "
   ]
  },
  {
   "cell_type": "code",
   "execution_count": 10,
   "id": "734a3fc0",
   "metadata": {
    "execution": {
     "iopub.execute_input": "2023-12-02T19:29:58.966810Z",
     "iopub.status.busy": "2023-12-02T19:29:58.966347Z",
     "iopub.status.idle": "2023-12-02T19:29:59.001202Z",
     "shell.execute_reply": "2023-12-02T19:29:58.999917Z"
    },
    "papermill": {
     "duration": 0.052052,
     "end_time": "2023-12-02T19:29:59.003904",
     "exception": false,
     "start_time": "2023-12-02T19:29:58.951852",
     "status": "completed"
    },
    "tags": []
   },
   "outputs": [
    {
     "data": {
      "application/javascript": [
       "parent.postMessage({\"jupyterEvent\": \"custom.exercise_interaction\", \"data\": {\"outcomeType\": 1, \"valueTowardsCompletion\": 1.0, \"interactionType\": 1, \"questionType\": 2, \"questionId\": \"2_DropMissing\", \"learnToolsVersion\": \"0.3.4\", \"failureMessage\": \"\", \"exceptionClass\": \"\", \"trace\": \"\"}}, \"*\")"
      ],
      "text/plain": [
       "<IPython.core.display.Javascript object>"
      ]
     },
     "metadata": {},
     "output_type": "display_data"
    },
    {
     "data": {
      "text/markdown": [
       "<span style=\"color:#33cc33\">Correct</span>"
      ],
      "text/plain": [
       "Correct"
      ]
     },
     "metadata": {},
     "output_type": "display_data"
    }
   ],
   "source": [
    "# Fill in the line below: get names of columns with missing values\n",
    "cols_with_missing = [col for col in X_train.columns\n",
    "                     if X_train[col].isnull().any()]\n",
    "# Your code here\n",
    "\n",
    "# Fill in the lines below: drop columns in training and validation data\n",
    "reduced_X_train = X_train.drop(cols_with_missing, axis=1)\n",
    "reduced_X_valid = X_valid.drop(cols_with_missing, axis=1)\n",
    "\n",
    "# Check your answers\n",
    "step_2.check()"
   ]
  },
  {
   "cell_type": "code",
   "execution_count": 11,
   "id": "3f46ccd1",
   "metadata": {
    "execution": {
     "iopub.execute_input": "2023-12-02T19:29:59.033293Z",
     "iopub.status.busy": "2023-12-02T19:29:59.032863Z",
     "iopub.status.idle": "2023-12-02T19:29:59.037949Z",
     "shell.execute_reply": "2023-12-02T19:29:59.036699Z"
    },
    "papermill": {
     "duration": 0.022917,
     "end_time": "2023-12-02T19:29:59.040467",
     "exception": false,
     "start_time": "2023-12-02T19:29:59.017550",
     "status": "completed"
    },
    "tags": []
   },
   "outputs": [],
   "source": [
    "# Lines below will give you a hint or solution code\n",
    "#step_2.hint()\n",
    "#step_2.solution()"
   ]
  },
  {
   "cell_type": "markdown",
   "id": "90dbf4cf",
   "metadata": {
    "papermill": {
     "duration": 0.013103,
     "end_time": "2023-12-02T19:29:59.067046",
     "exception": false,
     "start_time": "2023-12-02T19:29:59.053943",
     "status": "completed"
    },
    "tags": []
   },
   "source": [
    "Run the next code cell without changes to obtain the MAE for this approach."
   ]
  },
  {
   "cell_type": "code",
   "execution_count": 12,
   "id": "0451a239",
   "metadata": {
    "execution": {
     "iopub.execute_input": "2023-12-02T19:29:59.095653Z",
     "iopub.status.busy": "2023-12-02T19:29:59.095235Z",
     "iopub.status.idle": "2023-12-02T19:30:00.410984Z",
     "shell.execute_reply": "2023-12-02T19:30:00.409702Z"
    },
    "papermill": {
     "duration": 1.333514,
     "end_time": "2023-12-02T19:30:00.414108",
     "exception": false,
     "start_time": "2023-12-02T19:29:59.080594",
     "status": "completed"
    },
    "tags": []
   },
   "outputs": [
    {
     "name": "stdout",
     "output_type": "stream",
     "text": [
      "MAE (Drop columns with missing values):\n",
      "17837.82570776256\n"
     ]
    }
   ],
   "source": [
    "print(\"MAE (Drop columns with missing values):\")\n",
    "print(score_dataset(reduced_X_train, reduced_X_valid, y_train, y_valid))"
   ]
  },
  {
   "cell_type": "markdown",
   "id": "c694a7c2",
   "metadata": {
    "papermill": {
     "duration": 0.013265,
     "end_time": "2023-12-02T19:30:00.441190",
     "exception": false,
     "start_time": "2023-12-02T19:30:00.427925",
     "status": "completed"
    },
    "tags": []
   },
   "source": [
    "# Step 3: Imputation\n",
    "\n",
    "### Part A\n",
    "\n",
    "Use the next code cell to impute missing values with the mean value along each column.  Set the preprocessed DataFrames to `imputed_X_train` and `imputed_X_valid`.  Make sure that the column names match those in `X_train` and `X_valid`."
   ]
  },
  {
   "cell_type": "code",
   "execution_count": 13,
   "id": "a15159a6",
   "metadata": {
    "execution": {
     "iopub.execute_input": "2023-12-02T19:30:00.472106Z",
     "iopub.status.busy": "2023-12-02T19:30:00.471671Z",
     "iopub.status.idle": "2023-12-02T19:30:00.512542Z",
     "shell.execute_reply": "2023-12-02T19:30:00.511269Z"
    },
    "papermill": {
     "duration": 0.059438,
     "end_time": "2023-12-02T19:30:00.514960",
     "exception": false,
     "start_time": "2023-12-02T19:30:00.455522",
     "status": "completed"
    },
    "tags": []
   },
   "outputs": [
    {
     "data": {
      "application/javascript": [
       "parent.postMessage({\"jupyterEvent\": \"custom.exercise_interaction\", \"data\": {\"outcomeType\": 1, \"valueTowardsCompletion\": 1.0, \"interactionType\": 1, \"questionType\": 2, \"questionId\": \"3.1_ImputeCode\", \"learnToolsVersion\": \"0.3.4\", \"failureMessage\": \"\", \"exceptionClass\": \"\", \"trace\": \"\"}}, \"*\")"
      ],
      "text/plain": [
       "<IPython.core.display.Javascript object>"
      ]
     },
     "metadata": {},
     "output_type": "display_data"
    },
    {
     "data": {
      "text/markdown": [
       "<span style=\"color:#33cc33\">Correct</span>"
      ],
      "text/plain": [
       "Correct"
      ]
     },
     "metadata": {},
     "output_type": "display_data"
    }
   ],
   "source": [
    "from sklearn.impute import SimpleImputer\n",
    "\n",
    "# Fill in the lines below: imputation\n",
    "my_imputer = SimpleImputer()\n",
    "imputed_X_train = pd.DataFrame(my_imputer.fit_transform(X_train))\n",
    "imputed_X_valid = pd.DataFrame(my_imputer.transform(X_valid))\n",
    "\n",
    "# Fill in the lines below: imputation removed column names; put them back\n",
    "imputed_X_train.columns = X_train.columns\n",
    "imputed_X_valid.columns = X_valid.columns\n",
    "\n",
    "# Check your answers\n",
    "step_3.a.check()"
   ]
  },
  {
   "cell_type": "code",
   "execution_count": 14,
   "id": "faace47d",
   "metadata": {
    "execution": {
     "iopub.execute_input": "2023-12-02T19:30:00.606142Z",
     "iopub.status.busy": "2023-12-02T19:30:00.605712Z",
     "iopub.status.idle": "2023-12-02T19:30:00.611025Z",
     "shell.execute_reply": "2023-12-02T19:30:00.609651Z"
    },
    "papermill": {
     "duration": 0.023573,
     "end_time": "2023-12-02T19:30:00.613680",
     "exception": false,
     "start_time": "2023-12-02T19:30:00.590107",
     "status": "completed"
    },
    "tags": []
   },
   "outputs": [],
   "source": [
    "# Lines below will give you a hint or solution code\n",
    "#step_3.a.hint()\n",
    "#step_3.a.solution()"
   ]
  },
  {
   "cell_type": "markdown",
   "id": "f0b690da",
   "metadata": {
    "papermill": {
     "duration": 0.013883,
     "end_time": "2023-12-02T19:30:00.641847",
     "exception": false,
     "start_time": "2023-12-02T19:30:00.627964",
     "status": "completed"
    },
    "tags": []
   },
   "source": [
    "Run the next code cell without changes to obtain the MAE for this approach."
   ]
  },
  {
   "cell_type": "code",
   "execution_count": 15,
   "id": "0b0d3a37",
   "metadata": {
    "execution": {
     "iopub.execute_input": "2023-12-02T19:30:00.672693Z",
     "iopub.status.busy": "2023-12-02T19:30:00.672283Z",
     "iopub.status.idle": "2023-12-02T19:30:02.133874Z",
     "shell.execute_reply": "2023-12-02T19:30:02.132386Z"
    },
    "papermill": {
     "duration": 1.480233,
     "end_time": "2023-12-02T19:30:02.136824",
     "exception": false,
     "start_time": "2023-12-02T19:30:00.656591",
     "status": "completed"
    },
    "tags": []
   },
   "outputs": [
    {
     "name": "stdout",
     "output_type": "stream",
     "text": [
      "MAE (Imputation):\n",
      "18062.894611872147\n"
     ]
    }
   ],
   "source": [
    "print(\"MAE (Imputation):\")\n",
    "print(score_dataset(imputed_X_train, imputed_X_valid, y_train, y_valid))"
   ]
  },
  {
   "cell_type": "markdown",
   "id": "fcfb8fc3",
   "metadata": {
    "papermill": {
     "duration": 0.020397,
     "end_time": "2023-12-02T19:30:02.177322",
     "exception": false,
     "start_time": "2023-12-02T19:30:02.156925",
     "status": "completed"
    },
    "tags": []
   },
   "source": [
    "### Part B\n",
    "\n",
    "Compare the MAE from each approach.  Does anything surprise you about the results?  Why do you think one approach performed better than the other?"
   ]
  },
  {
   "cell_type": "code",
   "execution_count": 16,
   "id": "55f5843f",
   "metadata": {
    "execution": {
     "iopub.execute_input": "2023-12-02T19:30:02.215956Z",
     "iopub.status.busy": "2023-12-02T19:30:02.214722Z",
     "iopub.status.idle": "2023-12-02T19:30:02.225253Z",
     "shell.execute_reply": "2023-12-02T19:30:02.224291Z"
    },
    "papermill": {
     "duration": 0.034287,
     "end_time": "2023-12-02T19:30:02.230439",
     "exception": false,
     "start_time": "2023-12-02T19:30:02.196152",
     "status": "completed"
    },
    "tags": []
   },
   "outputs": [
    {
     "data": {
      "application/javascript": [
       "parent.postMessage({\"jupyterEvent\": \"custom.exercise_interaction\", \"data\": {\"outcomeType\": 1, \"valueTowardsCompletion\": 1.0, \"interactionType\": 1, \"questionType\": 4, \"questionId\": \"3.2_ImputeThought\", \"learnToolsVersion\": \"0.3.4\", \"failureMessage\": \"\", \"exceptionClass\": \"\", \"trace\": \"\"}}, \"*\")"
      ],
      "text/plain": [
       "<IPython.core.display.Javascript object>"
      ]
     },
     "metadata": {},
     "output_type": "display_data"
    },
    {
     "data": {
      "text/markdown": [
       "<span style=\"color:#33cc33\">Correct:</span> \n",
       "\n",
       "Given that thre are so few missing values in the dataset, we'd expect imputation to perform better than dropping columns entirely.  However, we see that dropping columns performs slightly better!  While this can probably partially be attributed to noise in the dataset, another potential explanation is that the imputation method is not a great match to this dataset.  That is, maybe instead of filling in the mean value, it makes more sense to set every missing value to a value of 0, to fill in the most frequently encountered value, or to use some other method.  For instance, consider the `GarageYrBlt` column (which indicates the year that the garage was built).  It's likely that in some cases, a missing value could indicate a house that does not have a garage.  Does it make more sense to fill in the median value along each column in this case?  Or could we get better results by filling in the minimum value along each column?  It's not quite clear what's best in this case, but perhaps we can rule out some options immediately - for instance, setting missing values in this column to 0 is likely to yield horrible results!"
      ],
      "text/plain": [
       "Correct: \n",
       "\n",
       "Given that thre are so few missing values in the dataset, we'd expect imputation to perform better than dropping columns entirely.  However, we see that dropping columns performs slightly better!  While this can probably partially be attributed to noise in the dataset, another potential explanation is that the imputation method is not a great match to this dataset.  That is, maybe instead of filling in the mean value, it makes more sense to set every missing value to a value of 0, to fill in the most frequently encountered value, or to use some other method.  For instance, consider the `GarageYrBlt` column (which indicates the year that the garage was built).  It's likely that in some cases, a missing value could indicate a house that does not have a garage.  Does it make more sense to fill in the median value along each column in this case?  Or could we get better results by filling in the minimum value along each column?  It's not quite clear what's best in this case, but perhaps we can rule out some options immediately - for instance, setting missing values in this column to 0 is likely to yield horrible results!"
      ]
     },
     "metadata": {},
     "output_type": "display_data"
    }
   ],
   "source": [
    "# Check your answer (Run this code cell to receive credit!)\n",
    "step_3.b.check()"
   ]
  },
  {
   "cell_type": "code",
   "execution_count": 17,
   "id": "bdf00e6e",
   "metadata": {
    "execution": {
     "iopub.execute_input": "2023-12-02T19:30:02.268625Z",
     "iopub.status.busy": "2023-12-02T19:30:02.267560Z",
     "iopub.status.idle": "2023-12-02T19:30:02.274546Z",
     "shell.execute_reply": "2023-12-02T19:30:02.272635Z"
    },
    "papermill": {
     "duration": 0.028089,
     "end_time": "2023-12-02T19:30:02.277535",
     "exception": false,
     "start_time": "2023-12-02T19:30:02.249446",
     "status": "completed"
    },
    "tags": []
   },
   "outputs": [],
   "source": [
    "#step_3.b.hint()"
   ]
  },
  {
   "cell_type": "markdown",
   "id": "9a25e033",
   "metadata": {
    "papermill": {
     "duration": 0.014609,
     "end_time": "2023-12-02T19:30:02.307814",
     "exception": false,
     "start_time": "2023-12-02T19:30:02.293205",
     "status": "completed"
    },
    "tags": []
   },
   "source": [
    "# Step 4: Generate test predictions\n",
    "\n",
    "In this final step, you'll use any approach of your choosing to deal with missing values.  Once you've preprocessed the training and validation features, you'll train and evaluate a random forest model.  Then, you'll preprocess the test data before generating predictions that can be submitted to the competition!\n",
    "\n",
    "### Part A\n",
    "\n",
    "Use the next code cell to preprocess the training and validation data.  Set the preprocessed DataFrames to `final_X_train` and `final_X_valid`.  **You can use any approach of your choosing here!**  in order for this step to be marked as correct, you need only ensure:\n",
    "- the preprocessed DataFrames have the same number of columns,\n",
    "- the preprocessed DataFrames have no missing values, \n",
    "- `final_X_train` and `y_train` have the same number of rows, and\n",
    "- `final_X_valid` and `y_valid` have the same number of rows."
   ]
  },
  {
   "cell_type": "code",
   "execution_count": 18,
   "id": "454ef7c3",
   "metadata": {
    "execution": {
     "iopub.execute_input": "2023-12-02T19:30:02.339812Z",
     "iopub.status.busy": "2023-12-02T19:30:02.338951Z",
     "iopub.status.idle": "2023-12-02T19:30:02.372175Z",
     "shell.execute_reply": "2023-12-02T19:30:02.371026Z"
    },
    "papermill": {
     "duration": 0.051943,
     "end_time": "2023-12-02T19:30:02.374470",
     "exception": false,
     "start_time": "2023-12-02T19:30:02.322527",
     "status": "completed"
    },
    "tags": []
   },
   "outputs": [
    {
     "data": {
      "application/javascript": [
       "parent.postMessage({\"jupyterEvent\": \"custom.exercise_interaction\", \"data\": {\"outcomeType\": 1, \"valueTowardsCompletion\": 1.0, \"interactionType\": 1, \"questionType\": 2, \"questionId\": \"4.1_PredsCodeA\", \"learnToolsVersion\": \"0.3.4\", \"failureMessage\": \"\", \"exceptionClass\": \"\", \"trace\": \"\"}}, \"*\")"
      ],
      "text/plain": [
       "<IPython.core.display.Javascript object>"
      ]
     },
     "metadata": {},
     "output_type": "display_data"
    },
    {
     "data": {
      "text/markdown": [
       "<span style=\"color:#33cc33\">Correct</span>"
      ],
      "text/plain": [
       "Correct"
      ]
     },
     "metadata": {},
     "output_type": "display_data"
    }
   ],
   "source": [
    "# Preprocessed training and validation features\n",
    "final_imputer = SimpleImputer(strategy='median')\n",
    "final_X_train = pd.DataFrame(final_imputer.fit_transform(X_train))\n",
    "final_X_valid = pd.DataFrame(final_imputer.transform(X_valid))\n",
    "\n",
    "# Check your answers\n",
    "step_4.a.check()"
   ]
  },
  {
   "cell_type": "code",
   "execution_count": 19,
   "id": "3a995a47",
   "metadata": {
    "execution": {
     "iopub.execute_input": "2023-12-02T19:30:02.406979Z",
     "iopub.status.busy": "2023-12-02T19:30:02.406331Z",
     "iopub.status.idle": "2023-12-02T19:30:02.410849Z",
     "shell.execute_reply": "2023-12-02T19:30:02.409991Z"
    },
    "papermill": {
     "duration": 0.023509,
     "end_time": "2023-12-02T19:30:02.413060",
     "exception": false,
     "start_time": "2023-12-02T19:30:02.389551",
     "status": "completed"
    },
    "tags": []
   },
   "outputs": [],
   "source": [
    "# Lines below will give you a hint or solution code\n",
    "#step_4.a.hint()\n",
    "# step_4.a.solution()"
   ]
  },
  {
   "cell_type": "markdown",
   "id": "03f6b20e",
   "metadata": {
    "papermill": {
     "duration": 0.014782,
     "end_time": "2023-12-02T19:30:02.442972",
     "exception": false,
     "start_time": "2023-12-02T19:30:02.428190",
     "status": "completed"
    },
    "tags": []
   },
   "source": [
    "Run the next code cell to train and evaluate a random forest model.  (*Note that we don't use the `score_dataset()` function above, because we will soon use the trained model to generate test predictions!*)"
   ]
  },
  {
   "cell_type": "code",
   "execution_count": 20,
   "id": "eb64a8c1",
   "metadata": {
    "execution": {
     "iopub.execute_input": "2023-12-02T19:30:02.476366Z",
     "iopub.status.busy": "2023-12-02T19:30:02.475637Z",
     "iopub.status.idle": "2023-12-02T19:30:03.953347Z",
     "shell.execute_reply": "2023-12-02T19:30:03.951849Z"
    },
    "papermill": {
     "duration": 1.497889,
     "end_time": "2023-12-02T19:30:03.956160",
     "exception": false,
     "start_time": "2023-12-02T19:30:02.458271",
     "status": "completed"
    },
    "tags": []
   },
   "outputs": [
    {
     "name": "stdout",
     "output_type": "stream",
     "text": [
      "MAE (Your approach):\n",
      "17791.59899543379\n"
     ]
    }
   ],
   "source": [
    "# Define and fit model\n",
    "model = RandomForestRegressor(n_estimators=100, random_state=0)\n",
    "model.fit(final_X_train, y_train)\n",
    "\n",
    "# Get validation predictions and MAE\n",
    "preds_valid = model.predict(final_X_valid)\n",
    "print(\"MAE (Your approach):\")\n",
    "print(mean_absolute_error(y_valid, preds_valid))"
   ]
  },
  {
   "cell_type": "markdown",
   "id": "eac5f221",
   "metadata": {
    "papermill": {
     "duration": 0.014817,
     "end_time": "2023-12-02T19:30:03.986233",
     "exception": false,
     "start_time": "2023-12-02T19:30:03.971416",
     "status": "completed"
    },
    "tags": []
   },
   "source": [
    "### Part B\n",
    "\n",
    "Use the next code cell to preprocess your test data.  Make sure that you use a method that agrees with how you preprocessed the training and validation data, and set the preprocessed test features to `final_X_test`.\n",
    "\n",
    "Then, use the preprocessed test features and the trained model to generate test predictions in `preds_test`.\n",
    "\n",
    "In order for this step to be marked correct, you need only ensure:\n",
    "- the preprocessed test DataFrame has no missing values, and\n",
    "- `final_X_test` has the same number of rows as `X_test`."
   ]
  },
  {
   "cell_type": "code",
   "execution_count": 21,
   "id": "fb851150",
   "metadata": {
    "execution": {
     "iopub.execute_input": "2023-12-02T19:30:04.018837Z",
     "iopub.status.busy": "2023-12-02T19:30:04.017869Z",
     "iopub.status.idle": "2023-12-02T19:30:04.071144Z",
     "shell.execute_reply": "2023-12-02T19:30:04.070131Z"
    },
    "papermill": {
     "duration": 0.072155,
     "end_time": "2023-12-02T19:30:04.073604",
     "exception": false,
     "start_time": "2023-12-02T19:30:04.001449",
     "status": "completed"
    },
    "tags": []
   },
   "outputs": [
    {
     "data": {
      "application/javascript": [
       "parent.postMessage({\"jupyterEvent\": \"custom.exercise_interaction\", \"data\": {\"outcomeType\": 1, \"valueTowardsCompletion\": 1.0, \"interactionType\": 1, \"questionType\": 2, \"questionId\": \"4.2_PredsCodeB\", \"learnToolsVersion\": \"0.3.4\", \"failureMessage\": \"\", \"exceptionClass\": \"\", \"trace\": \"\"}}, \"*\")"
      ],
      "text/plain": [
       "<IPython.core.display.Javascript object>"
      ]
     },
     "metadata": {},
     "output_type": "display_data"
    },
    {
     "data": {
      "text/markdown": [
       "<span style=\"color:#33cc33\">Correct</span>"
      ],
      "text/plain": [
       "Correct"
      ]
     },
     "metadata": {},
     "output_type": "display_data"
    }
   ],
   "source": [
    "# Fill in the line below: preprocess test data\n",
    "final_X_test = pd.DataFrame(final_imputer.transform(X_test))\n",
    "\n",
    "# Fill in the line below: get test predictions\n",
    "preds_test = model.predict(final_X_test)\n",
    "\n",
    "# Check your answers\n",
    "step_4.b.check()"
   ]
  },
  {
   "cell_type": "code",
   "execution_count": 22,
   "id": "56368456",
   "metadata": {
    "execution": {
     "iopub.execute_input": "2023-12-02T19:30:04.106723Z",
     "iopub.status.busy": "2023-12-02T19:30:04.105885Z",
     "iopub.status.idle": "2023-12-02T19:30:04.110364Z",
     "shell.execute_reply": "2023-12-02T19:30:04.109256Z"
    },
    "papermill": {
     "duration": 0.023672,
     "end_time": "2023-12-02T19:30:04.112833",
     "exception": false,
     "start_time": "2023-12-02T19:30:04.089161",
     "status": "completed"
    },
    "tags": []
   },
   "outputs": [],
   "source": [
    "# Lines below will give you a hint or solution code\n",
    "#step_4.b.hint()\n",
    "# step_4.b.solution()"
   ]
  },
  {
   "cell_type": "markdown",
   "id": "eeb718f3",
   "metadata": {
    "papermill": {
     "duration": 0.015212,
     "end_time": "2023-12-02T19:30:04.143632",
     "exception": false,
     "start_time": "2023-12-02T19:30:04.128420",
     "status": "completed"
    },
    "tags": []
   },
   "source": [
    "Run the next code cell without changes to save your results to a CSV file that can be submitted directly to the competition."
   ]
  },
  {
   "cell_type": "code",
   "execution_count": 23,
   "id": "8dc08071",
   "metadata": {
    "execution": {
     "iopub.execute_input": "2023-12-02T19:30:04.178622Z",
     "iopub.status.busy": "2023-12-02T19:30:04.178205Z",
     "iopub.status.idle": "2023-12-02T19:30:04.192669Z",
     "shell.execute_reply": "2023-12-02T19:30:04.191555Z"
    },
    "papermill": {
     "duration": 0.036091,
     "end_time": "2023-12-02T19:30:04.195348",
     "exception": false,
     "start_time": "2023-12-02T19:30:04.159257",
     "status": "completed"
    },
    "tags": []
   },
   "outputs": [],
   "source": [
    "# Save test predictions to file\n",
    "output = pd.DataFrame({'Id': X_test.index,\n",
    "                       'SalePrice': preds_test})\n",
    "output.to_csv('submission.csv', index=False)"
   ]
  },
  {
   "cell_type": "markdown",
   "id": "b9831e9a",
   "metadata": {
    "papermill": {
     "duration": 0.016326,
     "end_time": "2023-12-02T19:30:04.227932",
     "exception": false,
     "start_time": "2023-12-02T19:30:04.211606",
     "status": "completed"
    },
    "tags": []
   },
   "source": [
    "# Submit your results\n",
    "\n",
    "Once you have successfully completed Step 4, you're ready to submit your results to the leaderboard!  (_You also learned how to do this in the previous exercise.  If you need a reminder of how to do this, please use the instructions below._)  \n",
    "\n",
    "First, you'll need to join the competition if you haven't already.  So open a new window by clicking on [this link](https://www.kaggle.com/c/home-data-for-ml-course).  Then click on the **Join Competition** button.\n",
    "\n",
    "![join competition image](https://storage.googleapis.com/kaggle-media/learn/images/wLmFtH3.png)\n",
    "\n",
    "Next, follow the instructions below:\n",
    "1. Begin by clicking on the **Save Version** button in the top right corner of the window.  This will generate a pop-up window.  \n",
    "2. Ensure that the **Save and Run All** option is selected, and then click on the **Save** button.\n",
    "3. This generates a window in the bottom left corner of the notebook.  After it has finished running, click on the number to the right of the **Save Version** button.  This pulls up a list of versions on the right of the screen.  Click on the ellipsis **(...)** to the right of the most recent version, and select **Open in Viewer**.  This brings you into view mode of the same page. You will need to scroll down to get back to these instructions.\n",
    "4. Click on the **Data** tab near the top of the screen.  Then, click on the file you would like to submit, and click on the **Submit** button to submit your results to the leaderboard.\n",
    "\n",
    "You have now successfully submitted to the competition!\n",
    "\n",
    "If you want to keep working to improve your performance, select the **Edit** button in the top right of the screen. Then you can change your code and repeat the process. There's a lot of room to improve, and you will climb up the leaderboard as you work.\n",
    "\n",
    "\n",
    "# Keep going\n",
    "\n",
    "Move on to learn what **[categorical variables](https://www.kaggle.com/alexisbcook/categorical-variables)** are, along with how to incorporate them into your machine learning models.  Categorical variables are very common in real-world data, but you'll get an error if you try to plug them into your models without processing them first!"
   ]
  },
  {
   "cell_type": "markdown",
   "id": "8deb3835",
   "metadata": {
    "papermill": {
     "duration": 0.01532,
     "end_time": "2023-12-02T19:30:04.259619",
     "exception": false,
     "start_time": "2023-12-02T19:30:04.244299",
     "status": "completed"
    },
    "tags": []
   },
   "source": [
    "---\n",
    "\n",
    "\n",
    "\n",
    "\n",
    "*Have questions or comments? Visit the [course discussion forum](https://www.kaggle.com/learn/intermediate-machine-learning/discussion) to chat with other learners.*"
   ]
  }
 ],
 "metadata": {
  "kaggle": {
   "accelerator": "none",
   "dataSources": [
    {
     "databundleVersionId": 111096,
     "sourceId": 10211,
     "sourceType": "competition"
    }
   ],
   "isGpuEnabled": false,
   "isInternetEnabled": false,
   "language": "python",
   "sourceType": "notebook"
  },
  "kernelspec": {
   "display_name": "Python 3",
   "language": "python",
   "name": "python3"
  },
  "language_info": {
   "codemirror_mode": {
    "name": "ipython",
    "version": 3
   },
   "file_extension": ".py",
   "mimetype": "text/x-python",
   "name": "python",
   "nbconvert_exporter": "python",
   "pygments_lexer": "ipython3",
   "version": "3.10.12"
  },
  "papermill": {
   "default_parameters": {},
   "duration": 12.586301,
   "end_time": "2023-12-02T19:30:04.896443",
   "environment_variables": {},
   "exception": null,
   "input_path": "__notebook__.ipynb",
   "output_path": "__notebook__.ipynb",
   "parameters": {},
   "start_time": "2023-12-02T19:29:52.310142",
   "version": "2.4.0"
  }
 },
 "nbformat": 4,
 "nbformat_minor": 5
}
