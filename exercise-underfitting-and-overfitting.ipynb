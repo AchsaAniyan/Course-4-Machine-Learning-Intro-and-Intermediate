{
 "cells": [
  {
   "cell_type": "markdown",
   "id": "7ae3ff9d",
   "metadata": {
    "papermill": {
     "duration": 0.005288,
     "end_time": "2023-12-02T18:30:26.553263",
     "exception": false,
     "start_time": "2023-12-02T18:30:26.547975",
     "status": "completed"
    },
    "tags": []
   },
   "source": [
    "**This notebook is an exercise in the [Introduction to Machine Learning](https://www.kaggle.com/learn/intro-to-machine-learning) course.  You can reference the tutorial at [this link](https://www.kaggle.com/dansbecker/underfitting-and-overfitting).**\n",
    "\n",
    "---\n"
   ]
  },
  {
   "cell_type": "markdown",
   "id": "713e63f6",
   "metadata": {
    "papermill": {
     "duration": 0.004357,
     "end_time": "2023-12-02T18:30:26.564413",
     "exception": false,
     "start_time": "2023-12-02T18:30:26.560056",
     "status": "completed"
    },
    "tags": []
   },
   "source": [
    "## Recap\n",
    "You've built your first model, and now it's time to optimize the size of the tree to make better predictions. Run this cell to set up your coding environment where the previous step left off."
   ]
  },
  {
   "cell_type": "code",
   "execution_count": 1,
   "id": "742b5da1",
   "metadata": {
    "execution": {
     "iopub.execute_input": "2023-12-02T18:30:26.575894Z",
     "iopub.status.busy": "2023-12-02T18:30:26.575458Z",
     "iopub.status.idle": "2023-12-02T18:30:28.797325Z",
     "shell.execute_reply": "2023-12-02T18:30:28.795516Z"
    },
    "papermill": {
     "duration": 2.231498,
     "end_time": "2023-12-02T18:30:28.800471",
     "exception": false,
     "start_time": "2023-12-02T18:30:26.568973",
     "status": "completed"
    },
    "tags": []
   },
   "outputs": [
    {
     "name": "stdout",
     "output_type": "stream",
     "text": [
      "Validation MAE: 29,653\n",
      "\n",
      "Setup complete\n"
     ]
    }
   ],
   "source": [
    "# Code you have previously used to load data\n",
    "import pandas as pd\n",
    "from sklearn.metrics import mean_absolute_error\n",
    "from sklearn.model_selection import train_test_split\n",
    "from sklearn.tree import DecisionTreeRegressor\n",
    "\n",
    "\n",
    "# Path of the file to read\n",
    "iowa_file_path = '../input/home-data-for-ml-course/train.csv'\n",
    "\n",
    "home_data = pd.read_csv(iowa_file_path)\n",
    "# Create target object and call it y\n",
    "y = home_data.SalePrice\n",
    "# Create X\n",
    "features = ['LotArea', 'YearBuilt', '1stFlrSF', '2ndFlrSF', 'FullBath', 'BedroomAbvGr', 'TotRmsAbvGrd']\n",
    "X = home_data[features]\n",
    "\n",
    "# Split into validation and training data\n",
    "train_X, val_X, train_y, val_y = train_test_split(X, y, random_state=1)\n",
    "\n",
    "# Specify Model\n",
    "iowa_model = DecisionTreeRegressor(random_state=1)\n",
    "# Fit Model\n",
    "iowa_model.fit(train_X, train_y)\n",
    "\n",
    "# Make validation predictions and calculate mean absolute error\n",
    "val_predictions = iowa_model.predict(val_X)\n",
    "val_mae = mean_absolute_error(val_predictions, val_y)\n",
    "print(\"Validation MAE: {:,.0f}\".format(val_mae))\n",
    "\n",
    "# Set up code checking\n",
    "from learntools.core import binder\n",
    "binder.bind(globals())\n",
    "from learntools.machine_learning.ex5 import *\n",
    "print(\"\\nSetup complete\")"
   ]
  },
  {
   "cell_type": "markdown",
   "id": "9c0803c0",
   "metadata": {
    "papermill": {
     "duration": 0.004829,
     "end_time": "2023-12-02T18:30:28.810419",
     "exception": false,
     "start_time": "2023-12-02T18:30:28.805590",
     "status": "completed"
    },
    "tags": []
   },
   "source": [
    "# Exercises\n",
    "You could write the function `get_mae` yourself. For now, we'll supply it. This is the same function you read about in the previous lesson. Just run the cell below."
   ]
  },
  {
   "cell_type": "code",
   "execution_count": 2,
   "id": "519f1098",
   "metadata": {
    "execution": {
     "iopub.execute_input": "2023-12-02T18:30:28.822272Z",
     "iopub.status.busy": "2023-12-02T18:30:28.821845Z",
     "iopub.status.idle": "2023-12-02T18:30:28.827707Z",
     "shell.execute_reply": "2023-12-02T18:30:28.826855Z"
    },
    "papermill": {
     "duration": 0.014456,
     "end_time": "2023-12-02T18:30:28.829802",
     "exception": false,
     "start_time": "2023-12-02T18:30:28.815346",
     "status": "completed"
    },
    "tags": []
   },
   "outputs": [],
   "source": [
    "def get_mae(max_leaf_nodes, train_X, val_X, train_y, val_y):\n",
    "    model = DecisionTreeRegressor(max_leaf_nodes=max_leaf_nodes, random_state=0)\n",
    "    model.fit(train_X, train_y)\n",
    "    preds_val = model.predict(val_X)\n",
    "    mae = mean_absolute_error(val_y, preds_val)\n",
    "    return(mae)"
   ]
  },
  {
   "cell_type": "markdown",
   "id": "ff6e176d",
   "metadata": {
    "papermill": {
     "duration": 0.004553,
     "end_time": "2023-12-02T18:30:28.839185",
     "exception": false,
     "start_time": "2023-12-02T18:30:28.834632",
     "status": "completed"
    },
    "tags": []
   },
   "source": [
    "## Step 1: Compare Different Tree Sizes\n",
    "Write a loop that tries the following values for *max_leaf_nodes* from a set of possible values.\n",
    "\n",
    "Call the *get_mae* function on each value of max_leaf_nodes. Store the output in some way that allows you to select the value of `max_leaf_nodes` that gives the most accurate model on your data."
   ]
  },
  {
   "cell_type": "code",
   "execution_count": 3,
   "id": "11971194",
   "metadata": {
    "execution": {
     "iopub.execute_input": "2023-12-02T18:30:28.850956Z",
     "iopub.status.busy": "2023-12-02T18:30:28.850233Z",
     "iopub.status.idle": "2023-12-02T18:30:28.903554Z",
     "shell.execute_reply": "2023-12-02T18:30:28.902735Z"
    },
    "papermill": {
     "duration": 0.061734,
     "end_time": "2023-12-02T18:30:28.905754",
     "exception": false,
     "start_time": "2023-12-02T18:30:28.844020",
     "status": "completed"
    },
    "tags": []
   },
   "outputs": [
    {
     "data": {
      "application/javascript": [
       "parent.postMessage({\"jupyterEvent\": \"custom.exercise_interaction\", \"data\": {\"outcomeType\": 1, \"valueTowardsCompletion\": 0.5, \"interactionType\": 1, \"questionType\": 1, \"questionId\": \"1_BestTreeSize\", \"learnToolsVersion\": \"0.3.4\", \"failureMessage\": \"\", \"exceptionClass\": \"\", \"trace\": \"\"}}, \"*\")"
      ],
      "text/plain": [
       "<IPython.core.display.Javascript object>"
      ]
     },
     "metadata": {},
     "output_type": "display_data"
    },
    {
     "data": {
      "text/markdown": [
       "<span style=\"color:#33cc33\">Correct</span>"
      ],
      "text/plain": [
       "Correct"
      ]
     },
     "metadata": {},
     "output_type": "display_data"
    }
   ],
   "source": [
    "candidate_max_leaf_nodes = [5, 25, 50, 100, 250, 500]\n",
    "# Write loop to find the ideal tree size from candidate_max_leaf_nodes\n",
    "scores = {leaf_size: get_mae(leaf_size, train_X, val_X, train_y, val_y) for leaf_size in candidate_max_leaf_nodes}\n",
    "\n",
    "# Store the best value of max_leaf_nodes (it will be either 5, 25, 50, 100, 250 or 500)\n",
    "best_tree_size = min(scores, key=scores.get)\n",
    "\n",
    "# Check your answer\n",
    "step_1.check()"
   ]
  },
  {
   "cell_type": "code",
   "execution_count": 4,
   "id": "8fa9b531",
   "metadata": {
    "execution": {
     "iopub.execute_input": "2023-12-02T18:30:28.918684Z",
     "iopub.status.busy": "2023-12-02T18:30:28.917969Z",
     "iopub.status.idle": "2023-12-02T18:30:28.921877Z",
     "shell.execute_reply": "2023-12-02T18:30:28.921084Z"
    },
    "papermill": {
     "duration": 0.013161,
     "end_time": "2023-12-02T18:30:28.924069",
     "exception": false,
     "start_time": "2023-12-02T18:30:28.910908",
     "status": "completed"
    },
    "tags": []
   },
   "outputs": [],
   "source": [
    "# The lines below will show you a hint or the solution.\n",
    "# step_1.hint() \n",
    "# step_1.solution()"
   ]
  },
  {
   "cell_type": "markdown",
   "id": "bc0f1f24",
   "metadata": {
    "papermill": {
     "duration": 0.005166,
     "end_time": "2023-12-02T18:30:28.934574",
     "exception": false,
     "start_time": "2023-12-02T18:30:28.929408",
     "status": "completed"
    },
    "tags": []
   },
   "source": [
    "## Step 2: Fit Model Using All Data\n",
    "You know the best tree size. If you were going to deploy this model in practice, you would make it even more accurate by using all of the data and keeping that tree size.  That is, you don't need to hold out the validation data now that you've made all your modeling decisions."
   ]
  },
  {
   "cell_type": "code",
   "execution_count": 5,
   "id": "0c0df59b",
   "metadata": {
    "execution": {
     "iopub.execute_input": "2023-12-02T18:30:28.947069Z",
     "iopub.status.busy": "2023-12-02T18:30:28.946342Z",
     "iopub.status.idle": "2023-12-02T18:30:28.966239Z",
     "shell.execute_reply": "2023-12-02T18:30:28.965377Z"
    },
    "papermill": {
     "duration": 0.028506,
     "end_time": "2023-12-02T18:30:28.968350",
     "exception": false,
     "start_time": "2023-12-02T18:30:28.939844",
     "status": "completed"
    },
    "tags": []
   },
   "outputs": [
    {
     "data": {
      "application/javascript": [
       "parent.postMessage({\"jupyterEvent\": \"custom.exercise_interaction\", \"data\": {\"outcomeType\": 1, \"valueTowardsCompletion\": 0.5, \"interactionType\": 1, \"questionType\": 2, \"questionId\": \"2_FitModelWithAllData\", \"learnToolsVersion\": \"0.3.4\", \"failureMessage\": \"\", \"exceptionClass\": \"\", \"trace\": \"\"}}, \"*\")"
      ],
      "text/plain": [
       "<IPython.core.display.Javascript object>"
      ]
     },
     "metadata": {},
     "output_type": "display_data"
    },
    {
     "data": {
      "text/markdown": [
       "<span style=\"color:#33cc33\">Correct</span>"
      ],
      "text/plain": [
       "Correct"
      ]
     },
     "metadata": {},
     "output_type": "display_data"
    }
   ],
   "source": [
    "# Fill in argument to make optimal size and uncomment\n",
    "final_model = DecisionTreeRegressor(max_leaf_nodes=best_tree_size, random_state=1)\n",
    "\n",
    "# fit the final model and uncomment the next two lines\n",
    "final_model.fit(X, y)\n",
    "\n",
    "# Check your answer\n",
    "step_2.check()"
   ]
  },
  {
   "cell_type": "code",
   "execution_count": 6,
   "id": "8f3ebb36",
   "metadata": {
    "execution": {
     "iopub.execute_input": "2023-12-02T18:30:28.981598Z",
     "iopub.status.busy": "2023-12-02T18:30:28.980641Z",
     "iopub.status.idle": "2023-12-02T18:30:28.984945Z",
     "shell.execute_reply": "2023-12-02T18:30:28.984127Z"
    },
    "papermill": {
     "duration": 0.013244,
     "end_time": "2023-12-02T18:30:28.987088",
     "exception": false,
     "start_time": "2023-12-02T18:30:28.973844",
     "status": "completed"
    },
    "tags": []
   },
   "outputs": [],
   "source": [
    "# step_2.hint()\n",
    "# step_2.solution()"
   ]
  },
  {
   "cell_type": "markdown",
   "id": "30ab06d8",
   "metadata": {
    "papermill": {
     "duration": 0.005159,
     "end_time": "2023-12-02T18:30:28.997867",
     "exception": false,
     "start_time": "2023-12-02T18:30:28.992708",
     "status": "completed"
    },
    "tags": []
   },
   "source": [
    "You've tuned this model and improved your results. But we are still using Decision Tree models, which are not very sophisticated by modern machine learning standards. In the next step you will learn to use Random Forests to improve your models even more.\n",
    "\n",
    "# Keep Going\n",
    "\n",
    "You are ready for **[Random Forests](https://www.kaggle.com/dansbecker/random-forests).**\n"
   ]
  },
  {
   "cell_type": "markdown",
   "id": "f08c4d8f",
   "metadata": {
    "papermill": {
     "duration": 0.005161,
     "end_time": "2023-12-02T18:30:29.008502",
     "exception": false,
     "start_time": "2023-12-02T18:30:29.003341",
     "status": "completed"
    },
    "tags": []
   },
   "source": [
    "---\n",
    "\n",
    "\n",
    "\n",
    "\n",
    "*Have questions or comments? Visit the [course discussion forum](https://www.kaggle.com/learn/intro-to-machine-learning/discussion) to chat with other learners.*"
   ]
  }
 ],
 "metadata": {
  "kaggle": {
   "accelerator": "none",
   "dataSources": [
    {
     "databundleVersionId": 111096,
     "sourceId": 10211,
     "sourceType": "competition"
    },
    {
     "datasetId": 11167,
     "sourceId": 15520,
     "sourceType": "datasetVersion"
    },
    {
     "datasetId": 2709,
     "sourceId": 38454,
     "sourceType": "datasetVersion"
    }
   ],
   "isGpuEnabled": false,
   "isInternetEnabled": false,
   "language": "python",
   "sourceType": "notebook"
  },
  "kernelspec": {
   "display_name": "Python 3",
   "language": "python",
   "name": "python3"
  },
  "language_info": {
   "codemirror_mode": {
    "name": "ipython",
    "version": 3
   },
   "file_extension": ".py",
   "mimetype": "text/x-python",
   "name": "python",
   "nbconvert_exporter": "python",
   "pygments_lexer": "ipython3",
   "version": "3.10.12"
  },
  "papermill": {
   "default_parameters": {},
   "duration": 6.60999,
   "end_time": "2023-12-02T18:30:29.635117",
   "environment_variables": {},
   "exception": null,
   "input_path": "__notebook__.ipynb",
   "output_path": "__notebook__.ipynb",
   "parameters": {},
   "start_time": "2023-12-02T18:30:23.025127",
   "version": "2.4.0"
  }
 },
 "nbformat": 4,
 "nbformat_minor": 5
}
